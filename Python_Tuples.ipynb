{
  "nbformat": 4,
  "nbformat_minor": 0,
  "metadata": {
    "colab": {
      "provenance": []
    },
    "kernelspec": {
      "name": "python3",
      "display_name": "Python 3"
    },
    "language_info": {
      "name": "python"
    }
  },
  "cells": [
    {
      "cell_type": "markdown",
      "source": [
        "Q1. What is a tuple in Python?"
      ],
      "metadata": {
        "id": "2d3q0jSKxcte"
      }
    },
    {
      "cell_type": "markdown",
      "source": [
        "\n",
        "In Python, a tuple is an ordered and immutable collection of elements. This means that once a tuple is created, its elements cannot be changed, added, or removed"
      ],
      "metadata": {
        "id": "ODy-Teo0xicY"
      }
    },
    {
      "cell_type": "markdown",
      "source": [
        "Q2. How do you create a tuple in Python?"
      ],
      "metadata": {
        "id": "zThCNv3Hxw5F"
      }
    },
    {
      "cell_type": "code",
      "source": [
        "\n",
        "##In Python, you can create a tuple by enclosing a sequence of elements within parentheses () or by using the tuple() constructor."
      ],
      "metadata": {
        "id": "B25bFQAvx0vL"
      },
      "execution_count": 5,
      "outputs": []
    },
    {
      "cell_type": "markdown",
      "source": [
        "Q3. What is the difference between a tuple and a list in Python?"
      ],
      "metadata": {
        "id": "B2bhIAkcx75c"
      }
    },
    {
      "cell_type": "code",
      "source": [
        "\"\"\"Lists are mutable (can be changed), defined with square brackets [], and commonly used for dynamic collections where elements can be added, removed, or changed.\n",
        "\n",
        "Tuples are immutable (cannot be changed), defined with parentheses (), and commonly used for static collections\"\"\""
      ],
      "metadata": {
        "colab": {
          "base_uri": "https://localhost:8080/"
        },
        "id": "tuzqIpwyx_ge",
        "outputId": "54b2ac72-9ed1-40ed-f891-9625d1778680"
      },
      "execution_count": 1,
      "outputs": [
        {
          "output_type": "stream",
          "name": "stdout",
          "text": [
            "[5, 4, 3, 2, 1]\n"
          ]
        }
      ]
    },
    {
      "cell_type": "markdown",
      "source": [
        "Q4. Can a tuple be changed in Python?"
      ],
      "metadata": {
        "id": "zkD213b9yEw9"
      }
    },
    {
      "cell_type": "markdown",
      "source": [
        "\n",
        "No, a tuple cannot be changed in Python after it is created. Tuples are immutable data structures,"
      ],
      "metadata": {
        "id": "7VW8l_YT5EeB"
      }
    },
    {
      "cell_type": "markdown",
      "source": [
        "Q5. How do you access elements in a tuple?"
      ],
      "metadata": {
        "id": "WJZibwTcyZam"
      }
    },
    {
      "cell_type": "markdown",
      "source": [
        "\n",
        "To access elements in a tuple in Python, we can use indexing or slicing"
      ],
      "metadata": {
        "id": "oSSVgT4q5XcQ"
      }
    }
  ]
}